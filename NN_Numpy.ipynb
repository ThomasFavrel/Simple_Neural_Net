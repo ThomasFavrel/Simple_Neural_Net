{
 "cells": [
  {
   "cell_type": "code",
   "execution_count": 1,
   "id": "c9e2b13c",
   "metadata": {},
   "outputs": [],
   "source": [
    "import numpy as np\n",
    "import copy\n",
    "import matplotlib.pyplot as plt\n",
    "import h5py\n",
    "import scipy\n",
    "from PIL import Image\n",
    "from scipy import ndimage\n",
    "from utils import load_dataset"
   ]
  },
  {
   "attachments": {},
   "cell_type": "markdown",
   "id": "45260f08",
   "metadata": {},
   "source": [
    "# Simple Neural Network with Numpy\n",
    "\n",
    "Let's build a simple NN with [numpy](https://numpy.org/) to a binary classification task.  \n",
    "**The goal** : build a cat classifier.  \n",
    "\n",
    "For this let’s build a Logistic regression with Neural Network mindset.  \n",
    "**Architecture of the Model :**\n",
    "  \n",
    "  ![Reg_log_NN_diagramme.svg](img/Reg_log_NN_Diagramme.svg)\n",
    "  ![Reg_log_NN_diagramme.svg](img/Reg_log_NN_diagramme.svg)\n",
    "\n"
   ]
  },
  {
   "cell_type": "markdown",
   "id": "c69afb11",
   "metadata": {},
   "source": [
    "## 1. Import Data"
   ]
  },
  {
   "cell_type": "code",
   "execution_count": 2,
   "id": "2ea50ca5",
   "metadata": {},
   "outputs": [],
   "source": [
    "train_set_x_orig, train_set_y, test_set_x_orig, test_set_y, classes = load_dataset()"
   ]
  },
  {
   "cell_type": "markdown",
   "id": "eb6aa6cb",
   "metadata": {},
   "source": [
    "## 2. Prepare Data"
   ]
  },
  {
   "cell_type": "code",
   "execution_count": 3,
   "id": "8b220d3d",
   "metadata": {},
   "outputs": [
    {
     "name": "stdout",
     "output_type": "stream",
     "text": [
      "209 50 64\n"
     ]
    }
   ],
   "source": [
    "m_train = train_set_x_orig.shape[0]\n",
    "m_test = test_set_x_orig.shape[0]\n",
    "num_px = train_set_x_orig.shape[1]\n",
    "\n",
    "print(m_train, m_test, num_px)"
   ]
  },
  {
   "cell_type": "markdown",
   "id": "04e0ab6f",
   "metadata": {},
   "source": [
    "### 2.1 Flatten Data"
   ]
  },
  {
   "cell_type": "code",
   "execution_count": 4,
   "id": "c0a5f232",
   "metadata": {},
   "outputs": [
    {
     "data": {
      "text/plain": [
       "(12288, 209)"
      ]
     },
     "execution_count": 4,
     "metadata": {},
     "output_type": "execute_result"
    }
   ],
   "source": [
    "train_set_x_flatten = train_set_x_orig.reshape(m_train, -1).T\n",
    "test_set_x_flatten = test_set_x_orig.reshape(m_test, -1).T\n",
    "train_set_x_flatten.shape"
   ]
  },
  {
   "cell_type": "markdown",
   "id": "fbb04478",
   "metadata": {},
   "source": [
    "### 2.1 Normalize Data"
   ]
  },
  {
   "cell_type": "code",
   "execution_count": 5,
   "id": "c753840c",
   "metadata": {},
   "outputs": [],
   "source": [
    "train_set_x = train_set_x_flatten / 255.\n",
    "test_set_x = test_set_x_flatten / 255."
   ]
  },
  {
   "cell_type": "code",
   "execution_count": null,
   "id": "2cc40d2e",
   "metadata": {},
   "outputs": [],
   "source": []
  }
 ],
 "metadata": {
  "kernelspec": {
   "display_name": "Python 3 (ipykernel)",
   "language": "python",
   "name": "python3"
  },
  "language_info": {
   "codemirror_mode": {
    "name": "ipython",
    "version": 3
   },
   "file_extension": ".py",
   "mimetype": "text/x-python",
   "name": "python",
   "nbconvert_exporter": "python",
   "pygments_lexer": "ipython3",
   "version": "3.8.10"
  }
 },
 "nbformat": 4,
 "nbformat_minor": 5
}
