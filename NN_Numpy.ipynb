{
 "cells": [
  {
   "cell_type": "code",
   "execution_count": 1,
   "id": "c9e2b13c",
   "metadata": {},
   "outputs": [],
   "source": [
    "import numpy as np\n",
    "import copy\n",
    "import matplotlib.pyplot as plt\n",
    "import h5py\n",
    "import scipy\n",
    "from PIL import Image\n",
    "from scipy import ndimage\n",
    "from utils import load_dataset"
   ]
  },
  {
   "cell_type": "markdown",
   "id": "45260f08",
   "metadata": {},
   "source": [
    "# Simple Neural Network with Numpy\n",
    "\n",
    "Let's build a simple NN with [numpy](https://numpy.org/) to a binary classification task.  \n",
    "**The goal** : build a cat classifier.  \n",
    "\n",
    "For this let’s build a Logistic regression with Neural Network mindset.  \n",
    "**Architecture of the Model :**\n",
    "  \n",
    "  ![Reg_log_NN_diagramme.svg](img/Reg_log_NN_diag.svg)\n"
   ]
  },
  {
   "cell_type": "markdown",
   "id": "c69afb11",
   "metadata": {},
   "source": [
    "# 1. Import Data"
   ]
  },
  {
   "cell_type": "code",
   "execution_count": 2,
   "id": "2ea50ca5",
   "metadata": {},
   "outputs": [],
   "source": [
    "train_set_x_orig, train_set_y, test_set_x_orig, test_set_y, classes = load_dataset()"
   ]
  },
  {
   "cell_type": "markdown",
   "id": "eb6aa6cb",
   "metadata": {},
   "source": [
    "# 2. Prepare Data"
   ]
  },
  {
   "cell_type": "code",
   "execution_count": 3,
   "id": "8b220d3d",
   "metadata": {},
   "outputs": [
    {
     "name": "stdout",
     "output_type": "stream",
     "text": [
      "209 50 64\n"
     ]
    }
   ],
   "source": [
    "m_train = train_set_x_orig.shape[0]\n",
    "m_test = test_set_x_orig.shape[0]\n",
    "num_px = train_set_x_orig.shape[1]\n",
    "\n",
    "print(m_train, m_test, num_px)"
   ]
  },
  {
   "cell_type": "markdown",
   "id": "04e0ab6f",
   "metadata": {},
   "source": [
    "### 2.1 Flatten Data\n",
    "We have to transform the image into a vector. For that we reshape the image (64, 64, 3) to a vector (1, 64 * 64 * 3)."
   ]
  },
  {
   "cell_type": "code",
   "execution_count": 4,
   "id": "c0a5f232",
   "metadata": {},
   "outputs": [
    {
     "data": {
      "text/plain": [
       "(12288, 209)"
      ]
     },
     "execution_count": 4,
     "metadata": {},
     "output_type": "execute_result"
    }
   ],
   "source": [
    "train_set_x_flatten = train_set_x_orig.reshape(m_train, -1).T\n",
    "test_set_x_flatten = test_set_x_orig.reshape(m_test, -1).T\n",
    "train_set_x_flatten.shape"
   ]
  },
  {
   "cell_type": "markdown",
   "id": "fbb04478",
   "metadata": {},
   "source": [
    "### 2.1 Normalize Data\n",
    "Let's normalize images by dividing them by 255 (the maximum value of a pixel channel)."
   ]
  },
  {
   "cell_type": "code",
   "execution_count": 5,
   "id": "c753840c",
   "metadata": {},
   "outputs": [],
   "source": [
    "train_set_x = train_set_x_flatten / 255.\n",
    "test_set_x = test_set_x_flatten / 255."
   ]
  },
  {
   "cell_type": "markdown",
   "id": "3f7702e9",
   "metadata": {},
   "source": [
    "# 3. Build the Model"
   ]
  },
  {
   "cell_type": "markdown",
   "id": "ba5a71f3",
   "metadata": {},
   "source": [
    "### 3.1 Define the sigmoid function"
   ]
  },
  {
   "cell_type": "code",
   "execution_count": 6,
   "id": "f6daf4fe",
   "metadata": {},
   "outputs": [],
   "source": [
    "def sigmoid(z):\n",
    "    \"\"\"\n",
    "    Compute the sigmoid of z\n",
    "\n",
    "    Arguments:\n",
    "    z -- A scalar or numpy array of any size.\n",
    "\n",
    "    Return:\n",
    "    s -- sigmoid(z)\n",
    "    \"\"\"\n",
    "    return 1 / (1 + np.exp(-z))"
   ]
  },
  {
   "cell_type": "markdown",
   "id": "171d9eae",
   "metadata": {},
   "source": [
    "### 3.2 Initialize parameters w, b\n",
    "\n",
    "For this NN we can initialize parameters $w$ by 0."
   ]
  },
  {
   "cell_type": "code",
   "execution_count": 7,
   "id": "a72e5b6d",
   "metadata": {},
   "outputs": [],
   "source": [
    "def initialize_with_zeros(dim):\n",
    "    \"\"\"\n",
    "    This function creates a vector of zeros of shape (dim, 1) for w and initializes b to 0.\n",
    "    \n",
    "    Argument:\n",
    "    dim -- size of the w vector we want (or number of parameters in this case)\n",
    "    \n",
    "    Returns:\n",
    "    w -- initialized vector of shape (dim, 1)\n",
    "    b -- initialized scalar (corresponds to the bias) of type float\n",
    "    \"\"\"\n",
    "    w = np.zeros((dim, 1))\n",
    "    b = 0.\n",
    "    \n",
    "    return w, b"
   ]
  },
  {
   "cell_type": "markdown",
   "id": "304f6574",
   "metadata": {},
   "source": [
    "### 3.3 Forward and Backward Propagation\n",
    "- Compute $A = \\sigma(w^T X + b) = (a^{(1)}, a^{(2)}, ..., a^{(m-1)}, a^{(m)})$\n",
    "- Calculate the cost function: $J = -\\frac{1}{m}\\sum_{i=1}^{m}(y^{(i)}\\log(a^{(i)})+(1-y^{(i)})\\log(1-a^{(i)}))$\n",
    "\n",
    "Here are the two formulas you will be using: \n",
    "\n",
    "$$ \\frac{\\partial J}{\\partial w} = \\frac{1}{m}X(A-Y)^T\\tag{1}$$  \n",
    "  \n",
    "$$ \\frac{\\partial J}{\\partial b} = \\frac{1}{m} \\sum_{i=1}^m (a^{(i)}-y^{(i)})\\tag{2}$$"
   ]
  },
  {
   "cell_type": "code",
   "execution_count": 8,
   "id": "f0fa6aa1",
   "metadata": {},
   "outputs": [],
   "source": [
    "def propagate(w, b, X, Y):\n",
    "    \"\"\"\n",
    "    Implement the cost function and its gradient for the propagation explained above\n",
    "\n",
    "    Arguments:\n",
    "    w -- weights, a numpy array of size (num_px * num_px * 3, 1)\n",
    "    b -- bias, a scalar\n",
    "    X -- data of size (num_px * num_px * 3, number of examples)\n",
    "    Y -- true \"label\" vector (containing 0 if non-cat, 1 if cat) of size (1, number of examples)\n",
    "\n",
    "    Return:\n",
    "    cost -- negative log-likelihood cost for logistic regression\n",
    "    dw -- gradient of the loss with respect to w, thus same shape as w\n",
    "    db -- gradient of the loss with respect to b, thus same shape as b\n",
    "    \"\"\"\n",
    "    \n",
    "    m = X.shape[1]\n",
    "    # FORWARD\n",
    "    # compute activation\n",
    "    A = sigmoid(np.dot(w.T, X) + b)\n",
    "    \n",
    "    # compute cost\n",
    "    cost = (-1 / m) * np.sum(Y * np.log(A) + (1 - Y) * np.log(1 - A))\n",
    "    # BACKWARD\n",
    "    # compute gradients\n",
    "    dw = (1 / m) * np.dot(X, (A - Y).T)\n",
    "    db = (1 / m) * np.sum(A - Y)\n",
    "    \n",
    "    # compute cost\n",
    "    cost = np.squeeze(np.array(cost))\n",
    "\n",
    "    \n",
    "    grads = {\"dw\": dw,\n",
    "             \"db\": db}\n",
    "    \n",
    "    return grads, cost"
   ]
  },
  {
   "cell_type": "markdown",
   "id": "294d195c",
   "metadata": {},
   "source": [
    "### 3.4 Optimize parameters w, b\n",
    "\n",
    "Update $w$ and $b$ to minimize the cost function $J$.\n",
    "$ w := w - \\alpha \\ \\frac{\\partial J}{\\partial w}\\tag{3}$\n",
    "  \n",
    "  \n",
    "$ b := b - \\alpha \\ \\frac{\\partial J}{\\partial b}\\tag{4}$"
   ]
  },
  {
   "cell_type": "code",
   "execution_count": 9,
   "id": "38a2827b",
   "metadata": {},
   "outputs": [],
   "source": [
    "def optimize(w, b, X, Y, num_iterations=100, learning_rate=0.009, print_cost=False):\n",
    "    \"\"\"\n",
    "    This function optimizes w and b by running a gradient descent algorithm\n",
    "    \n",
    "    Arguments:\n",
    "    w -- weights, a numpy array of size (num_px * num_px * 3, 1)\n",
    "    b -- bias, a scalar\n",
    "    X -- data of shape (num_px * num_px * 3, number of examples)\n",
    "    Y -- true \"label\" vector (containing 0 if non-cat, 1 if cat), of shape (1, number of examples)\n",
    "    num_iterations -- number of iterations of the optimization loop\n",
    "    learning_rate -- learning rate of the gradient descent update rule\n",
    "    print_cost -- True to print the loss every 100 steps\n",
    "    \n",
    "    Returns:\n",
    "    params -- dictionary containing the weights w and bias b\n",
    "    grads -- dictionary containing the gradients of the weights and bias with respect to the cost function\n",
    "    costs -- list of all the costs computed during the optimization, this will be used to plot the learning curve.\n",
    "    \"\"\"\n",
    "    \n",
    "    w = copy.deepcopy(w)\n",
    "    b = copy.deepcopy(b)\n",
    "    \n",
    "    costs = []\n",
    "    \n",
    "    for i in range(num_iterations):\n",
    "        \n",
    "        # Cost and gradient calculation \n",
    "        grads, cost = propagate(w, b, X, Y)\n",
    "        \n",
    "        # Retrieve derivatives from grads\n",
    "        dw = grads[\"dw\"]\n",
    "        db = grads[\"db\"]\n",
    "        \n",
    "        # update parameters\n",
    "        w = w - learning_rate * grads['dw']\n",
    "        b = b - learning_rate * grads['db']\n",
    "        \n",
    "        # Record the costs\n",
    "        if i % 100 == 0:\n",
    "            costs.append(cost)\n",
    "        \n",
    "            # Print the cost every 100 training iterations\n",
    "            if print_cost:\n",
    "                print (\"Cost after iteration %i: %f\" %(i, cost))\n",
    "    \n",
    "    params = {\"w\": w,\n",
    "              \"b\": b}\n",
    "    \n",
    "    grads = {\"dw\": dw,\n",
    "             \"db\": db}\n",
    "    \n",
    "    return params, grads, costs"
   ]
  },
  {
   "cell_type": "markdown",
   "id": "d9a8302b",
   "metadata": {},
   "source": [
    "### 3.5 Predict the output\n",
    "Calculate $\\hat{Y} = A = \\sigma(w^T X + b)$"
   ]
  },
  {
   "cell_type": "code",
   "execution_count": 10,
   "id": "fdf57eef",
   "metadata": {},
   "outputs": [],
   "source": [
    "def predict(w, b, X, threshold=.5):\n",
    "    '''\n",
    "    Predict whether the label is 0 or 1 using learned logistic regression parameters (w, b)\n",
    "    \n",
    "    Arguments:\n",
    "    w -- weights, a numpy array of size (num_px * num_px * 3, 1)\n",
    "    b -- bias, a scalar\n",
    "    X -- data of size (num_px * num_px * 3, number of examples)\n",
    "    \n",
    "    Returns:\n",
    "    Y_prediction -- a numpy array (vector) containing all predictions (0/1) for the examples in X\n",
    "    '''\n",
    "    \n",
    "    m = X.shape[1]\n",
    "    Y_prediction = np.zeros((1, m))\n",
    "    w = w.reshape(X.shape[0], 1)\n",
    "    \n",
    "    # Compute vector \"A\" predicting the probabilities of a cat being present in the picture\n",
    "    A = sigmoid(np.dot(w.T, X) + b)\n",
    "    \n",
    "    for i in range(A.shape[1]):\n",
    "        \n",
    "        # Convert probabilities A[0,i] to actual predictions p[0,i]\n",
    "        if A[0, i] > threshold:\n",
    "            Y_prediction[0, i] = 1\n",
    "        else:\n",
    "            Y_prediction[0, i] = 0\n",
    "    \n",
    "    return Y_prediction"
   ]
  },
  {
   "cell_type": "markdown",
   "id": "98268680",
   "metadata": {},
   "source": [
    "### 3.6 Merge all to buid the model"
   ]
  },
  {
   "cell_type": "code",
   "execution_count": 11,
   "id": "0ac6eec9",
   "metadata": {},
   "outputs": [],
   "source": [
    "def model(X_train, Y_train, X_test, Y_test, num_iterations=2000, learning_rate=0.5, print_cost=False, threshold=.5):\n",
    "    \"\"\"\n",
    "    Builds the logistic regression model by calling the function you've implemented previously\n",
    "    \n",
    "    Arguments:\n",
    "    X_train -- training set represented by a numpy array of shape (num_px * num_px * 3, m_train)\n",
    "    Y_train -- training labels represented by a numpy array (vector) of shape (1, m_train)\n",
    "    X_test -- test set represented by a numpy array of shape (num_px * num_px * 3, m_test)\n",
    "    Y_test -- test labels represented by a numpy array (vector) of shape (1, m_test)\n",
    "    num_iterations -- hyperparameter representing the number of iterations to optimize the parameters\n",
    "    learning_rate -- hyperparameter representing the learning rate used in the update rule of optimize()\n",
    "    print_cost -- Set to True to print the cost every 100 iterations\n",
    "    \n",
    "    Returns:\n",
    "    d -- dictionary containing information about the model.\n",
    "    \"\"\"\n",
    "    # Initialize parameters with zeros\n",
    "    w, b = initialize_with_zeros(X_train.shape[0])\n",
    "    \n",
    "    # Gradient descent\n",
    "    params, grads, costs = optimize(w, b, X_train, Y_train, num_iterations, learning_rate, print_cost)\n",
    "    w = params['w']\n",
    "    b = params['b']\n",
    "    \n",
    "    # Predict test/train set examples\n",
    "    Y_prediction_test = predict(w, b, X_test, threshold)\n",
    "    Y_prediction_train = predict(w, b, X_train, threshold)\n",
    "    \n",
    "    # Print train/test Errors\n",
    "    if print_cost:\n",
    "        print(\"train accuracy: {} %\".format(100 - np.mean(np.abs(Y_prediction_train - Y_train)) * 100))\n",
    "        print(\"test accuracy: {} %\".format(100 - np.mean(np.abs(Y_prediction_test - Y_test)) * 100))\n",
    "\n",
    "    \n",
    "    d = {\"costs\": costs,\n",
    "         \"Y_prediction_test\": Y_prediction_test, \n",
    "         \"Y_prediction_train\" : Y_prediction_train, \n",
    "         \"w\" : w, \n",
    "         \"b\" : b,\n",
    "         \"learning_rate\" : learning_rate,\n",
    "         \"num_iterations\": num_iterations}\n",
    "    \n",
    "    return d"
   ]
  },
  {
   "cell_type": "markdown",
   "id": "5c6c88f1",
   "metadata": {},
   "source": [
    "# 4. Test Model"
   ]
  },
  {
   "cell_type": "code",
   "execution_count": 12,
   "id": "c7915298",
   "metadata": {},
   "outputs": [
    {
     "name": "stdout",
     "output_type": "stream",
     "text": [
      "Cost after iteration 0: 0.693147\n",
      "Cost after iteration 100: 0.584508\n",
      "Cost after iteration 200: 0.466949\n",
      "Cost after iteration 300: 0.376007\n",
      "Cost after iteration 400: 0.331463\n",
      "Cost after iteration 500: 0.303273\n",
      "Cost after iteration 600: 0.279880\n",
      "Cost after iteration 700: 0.260042\n",
      "Cost after iteration 800: 0.242941\n",
      "Cost after iteration 900: 0.228004\n",
      "Cost after iteration 1000: 0.214820\n",
      "Cost after iteration 1100: 0.203078\n",
      "Cost after iteration 1200: 0.192544\n",
      "Cost after iteration 1300: 0.183033\n",
      "Cost after iteration 1400: 0.174399\n",
      "Cost after iteration 1500: 0.166521\n",
      "Cost after iteration 1600: 0.159305\n",
      "Cost after iteration 1700: 0.152667\n",
      "Cost after iteration 1800: 0.146542\n",
      "Cost after iteration 1900: 0.140872\n",
      "train accuracy: 99.04306220095694 %\n",
      "test accuracy: 70.0 %\n"
     ]
    }
   ],
   "source": [
    "model_reg_log = model(train_set_x,\n",
    "                      train_set_y,\n",
    "                      test_set_x,\n",
    "                      test_set_y,\n",
    "                      num_iterations=2000,\n",
    "                      learning_rate=0.005,\n",
    "                      print_cost=True)"
   ]
  },
  {
   "cell_type": "code",
   "execution_count": 13,
   "id": "d9f46a46",
   "metadata": {},
   "outputs": [
    {
     "data": {
      "image/png": "[encoded data removed]",
      "text/plain": [
       "<Figure size 432x288 with 1 Axes>"
      ]
     },
     "metadata": {
      "needs_background": "light"
     },
     "output_type": "display_data"
    }
   ],
   "source": [
    "costs = np.squeeze(model_reg_log['costs'])\n",
    "plt.plot(costs)\n",
    "plt.ylabel('cost')\n",
    "plt.xlabel('iterations (per hundreds)')\n",
    "plt.title(\"Learning rate =\" + str(model_reg_log[\"learning_rate\"]))\n",
    "plt.show()"
   ]
  },
  {
   "cell_type": "markdown",
   "id": "08ec4105",
   "metadata": {},
   "source": [
    "# Model Constructor"
   ]
  },
  {
   "cell_type": "code",
   "execution_count": 14,
   "id": "308aacc0",
   "metadata": {},
   "outputs": [],
   "source": [
    "class Log_Reg_NN():\n",
    "    \n",
    "    def __init__(self,\n",
    "                 X_train,\n",
    "                 Y_train):\n",
    "        \n",
    "        self.X_train = X_train\n",
    "        self.Y_train = Y_train\n",
    "        self.w = np.zeros((self.X_train.shape[0], 1))\n",
    "        self.b = 0.\n",
    "        self.costs = []\n",
    "        \n",
    "        \n",
    "    def train(self,\n",
    "              num_iterations=2000,\n",
    "              learning_rate=0.005,\n",
    "              print_cost=False):\n",
    "        \n",
    "        self.w = copy.deepcopy(self.w)\n",
    "        self.b = copy.deepcopy(self.b)\n",
    "\n",
    "        for i in range(num_iterations):\n",
    "            \n",
    "            # Cost and gradient calculation \n",
    "            m = self.X_train.shape[1]\n",
    "            \n",
    "            # FORWARD\n",
    "            # compute activation\n",
    "            A = sigmoid(np.dot(self.w.T, self.X_train) + self.b)\n",
    "\n",
    "            # compute cost\n",
    "            cost = (-1 / m) * np.sum(self.Y_train * np.log(A) + (1 - self.Y_train) * np.log(1 - A))\n",
    "            \n",
    "            # BACKWARD\n",
    "            # compute gradients\n",
    "            dw = (1 / m) * np.dot(self.X_train, (A - self.Y_train).T)\n",
    "            db = (1 / m) * np.sum(A - self.Y_train)\n",
    "\n",
    "            # compute cost\n",
    "            cost = np.squeeze(np.array(cost))\n",
    "\n",
    "            # update parameters\n",
    "            self.w = self.w - learning_rate * dw\n",
    "            self.b = self.b - learning_rate * db\n",
    "\n",
    "            # Record the costs\n",
    "            if i % 100 == 0:\n",
    "                self.costs.append(cost)\n",
    "\n",
    "                # Print the cost every 100 training iterations\n",
    "                if print_cost:\n",
    "                    print (\"Cost after iteration %i: %f\" %(i, cost))\n",
    "        \n",
    "        \n",
    "    def predict(self, X, threshold=.5):\n",
    "        \n",
    "        m = X.shape[1]\n",
    "        Y_prediction = np.zeros((1, m))\n",
    "\n",
    "        # Compute vector \"A\" predicting the probabilities of a cat being present in the picture\n",
    "        A = sigmoid(np.dot(self.w.T, X) + self.b)\n",
    "\n",
    "        for i in range(A.shape[1]):\n",
    "\n",
    "            # Convert probabilities A[0,i] to actual predictions p[0,i]\n",
    "            if A[0, i] > threshold:\n",
    "                Y_prediction[0, i] = 1\n",
    "            else:\n",
    "                Y_prediction[0, i] = 0\n",
    "\n",
    "        return Y_prediction\n",
    "    \n",
    "    \n",
    "    def plot_loss(self):\n",
    "        costs = np.squeeze(self.costs)\n",
    "        plt.plot(costs)\n",
    "        plt.ylabel('cost')\n",
    "        plt.xlabel('iterations (per hundreds)')\n",
    "        plt.show()"
   ]
  },
  {
   "cell_type": "code",
   "execution_count": 15,
   "id": "20ad6b4e",
   "metadata": {},
   "outputs": [],
   "source": [
    "mod = Log_Reg_NN(train_set_x, train_set_y)"
   ]
  },
  {
   "cell_type": "code",
   "execution_count": 16,
   "id": "0ce6c048",
   "metadata": {},
   "outputs": [
    {
     "name": "stdout",
     "output_type": "stream",
     "text": [
      "Cost after iteration 0: 0.693147\n",
      "Cost after iteration 100: 0.584508\n",
      "Cost after iteration 200: 0.466949\n",
      "Cost after iteration 300: 0.376007\n",
      "Cost after iteration 400: 0.331463\n",
      "Cost after iteration 500: 0.303273\n",
      "Cost after iteration 600: 0.279880\n",
      "Cost after iteration 700: 0.260042\n",
      "Cost after iteration 800: 0.242941\n",
      "Cost after iteration 900: 0.228004\n",
      "Cost after iteration 1000: 0.214820\n",
      "Cost after iteration 1100: 0.203078\n",
      "Cost after iteration 1200: 0.192544\n",
      "Cost after iteration 1300: 0.183033\n",
      "Cost after iteration 1400: 0.174399\n",
      "Cost after iteration 1500: 0.166521\n",
      "Cost after iteration 1600: 0.159305\n",
      "Cost after iteration 1700: 0.152667\n",
      "Cost after iteration 1800: 0.146542\n",
      "Cost after iteration 1900: 0.140872\n"
     ]
    }
   ],
   "source": [
    "mod.train(num_iterations=2000, learning_rate=0.005, print_cost=True)"
   ]
  },
  {
   "cell_type": "code",
   "execution_count": 17,
   "id": "923f7fdf",
   "metadata": {},
   "outputs": [
    {
     "data": {
      "image/png": "[encoded data removed]",
      "text/plain": [
       "<Figure size 432x288 with 1 Axes>"
      ]
     },
     "metadata": {
      "needs_background": "light"
     },
     "output_type": "display_data"
    }
   ],
   "source": [
    "mod.plot_loss()"
   ]
  },
  {
   "cell_type": "code",
   "execution_count": null,
   "id": "cd88a87c",
   "metadata": {},
   "outputs": [],
   "source": []
  },
  {
   "cell_type": "code",
   "execution_count": null,
   "id": "f65e18c1",
   "metadata": {},
   "outputs": [],
   "source": []
  }
 ],
 "metadata": {
  "kernelspec": {
   "display_name": "Python 3 (ipykernel)",
   "language": "python",
   "name": "python3"
  },
  "language_info": {
   "codemirror_mode": {
    "name": "ipython",
    "version": 3
   },
   "file_extension": ".py",
   "mimetype": "text/x-python",
   "name": "python",
   "nbconvert_exporter": "python",
   "pygments_lexer": "ipython3",
   "version": "3.8.10"
  }
 },
 "nbformat": 4,
 "nbformat_minor": 5
}
